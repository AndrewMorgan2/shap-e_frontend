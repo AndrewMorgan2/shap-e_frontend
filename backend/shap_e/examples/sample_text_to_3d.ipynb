{
 "cells": [
  {
   "cell_type": "code",
   "execution_count": 1,
   "id": "964ccced",
   "metadata": {},
   "outputs": [],
   "source": [
    "import torch\n",
    "\n",
    "from shap_e.diffusion.sample import sample_latents\n",
    "from shap_e.diffusion.gaussian_diffusion import diffusion_from_config\n",
    "from shap_e.models.download import load_model, load_config\n",
    "from shap_e.util.notebooks import create_pan_cameras, decode_latent_images, gif_widget"
   ]
  },
  {
   "cell_type": "code",
   "execution_count": 3,
   "id": "8eed3a76",
   "metadata": {},
   "outputs": [],
   "source": [
    "device = torch.device('cuda' if torch.cuda.is_available() else 'cpu')"
   ]
  },
  {
   "cell_type": "code",
   "execution_count": 4,
   "id": "2d922637",
   "metadata": {},
   "outputs": [
    {
     "data": {
      "application/vnd.jupyter.widget-view+json": {
       "model_id": "209115c90c4842d3bab3e05c15a75621",
       "version_major": 2,
       "version_minor": 0
      },
      "text/plain": [
       "  0%|          | 0.00/1.78G [00:00<?, ?iB/s]"
      ]
     },
     "metadata": {},
     "output_type": "display_data"
    },
    {
     "name": "stderr",
     "output_type": "stream",
     "text": [
      "100%|███████████████████████████████████████| 890M/890M [06:15<00:00, 2.48MiB/s]\n"
     ]
    },
    {
     "data": {
      "application/vnd.jupyter.widget-view+json": {
       "model_id": "75cc3ba63c8d41a1bd7191354a7925d6",
       "version_major": 2,
       "version_minor": 0
      },
      "text/plain": [
       "  0%|          | 0.00/1.26G [00:00<?, ?iB/s]"
      ]
     },
     "metadata": {},
     "output_type": "display_data"
    },
    {
     "ename": "RuntimeError",
     "evalue": "The file A:\\Projects\\Shap-e\\shap-e_frontend\\shap_e\\examples\\shap_e_model_cache\\text_cond.pt should have hash e6b4fa599a7b3c3b16c222d5f5fe56f9db9289ff0b6575fbe5c11bc97106aad4 but has 95eaad8b84afee1f75cb39130112e15ff3669528767bcc4cc7a82cb57efd521b. Try deleting it and running this call again.",
     "output_type": "error",
     "traceback": [
      "\u001b[1;31m---------------------------------------------------------------------------\u001b[0m",
      "\u001b[1;31mRuntimeError\u001b[0m                              Traceback (most recent call last)",
      "Cell \u001b[1;32mIn[4], line 2\u001b[0m\n\u001b[0;32m      1\u001b[0m xm \u001b[38;5;241m=\u001b[39m load_model(\u001b[38;5;124m'\u001b[39m\u001b[38;5;124mtransmitter\u001b[39m\u001b[38;5;124m'\u001b[39m, device\u001b[38;5;241m=\u001b[39mdevice)\n\u001b[1;32m----> 2\u001b[0m model \u001b[38;5;241m=\u001b[39m load_model(\u001b[38;5;124m'\u001b[39m\u001b[38;5;124mtext300M\u001b[39m\u001b[38;5;124m'\u001b[39m, device\u001b[38;5;241m=\u001b[39mdevice)\n\u001b[0;32m      3\u001b[0m diffusion \u001b[38;5;241m=\u001b[39m diffusion_from_config(load_config(\u001b[38;5;124m'\u001b[39m\u001b[38;5;124mdiffusion\u001b[39m\u001b[38;5;124m'\u001b[39m))\n",
      "File \u001b[1;32ma:\\projects\\shap-e\\shap-e_frontend\\shap_e\\models\\download.py:147\u001b[0m, in \u001b[0;36mload_model\u001b[1;34m(model_name, device, **kwargs)\u001b[0m\n\u001b[0;32m    144\u001b[0m \u001b[38;5;28;01mfrom\u001b[39;00m \u001b[38;5;21;01m.\u001b[39;00m\u001b[38;5;21;01mconfigs\u001b[39;00m \u001b[38;5;28;01mimport\u001b[39;00m model_from_config\n\u001b[0;32m    146\u001b[0m model \u001b[38;5;241m=\u001b[39m model_from_config(load_config(model_name, \u001b[38;5;241m*\u001b[39m\u001b[38;5;241m*\u001b[39mkwargs), device\u001b[38;5;241m=\u001b[39mdevice)\n\u001b[1;32m--> 147\u001b[0m model\u001b[38;5;241m.\u001b[39mload_state_dict(load_checkpoint(model_name, device\u001b[38;5;241m=\u001b[39mdevice, \u001b[38;5;241m*\u001b[39m\u001b[38;5;241m*\u001b[39mkwargs))\n\u001b[0;32m    148\u001b[0m model\u001b[38;5;241m.\u001b[39meval()\n\u001b[0;32m    149\u001b[0m \u001b[38;5;28;01mreturn\u001b[39;00m model\n",
      "File \u001b[1;32ma:\\projects\\shap-e\\shap-e_frontend\\shap_e\\models\\download.py:133\u001b[0m, in \u001b[0;36mload_checkpoint\u001b[1;34m(checkpoint_name, device, progress, cache_dir, chunk_size)\u001b[0m\n\u001b[0;32m    129\u001b[0m \u001b[38;5;28;01mif\u001b[39;00m checkpoint_name \u001b[38;5;129;01mnot\u001b[39;00m \u001b[38;5;129;01min\u001b[39;00m MODEL_PATHS:\n\u001b[0;32m    130\u001b[0m     \u001b[38;5;28;01mraise\u001b[39;00m \u001b[38;5;167;01mValueError\u001b[39;00m(\n\u001b[0;32m    131\u001b[0m         \u001b[38;5;124mf\u001b[39m\u001b[38;5;124m\"\u001b[39m\u001b[38;5;124mUnknown checkpoint name \u001b[39m\u001b[38;5;132;01m{\u001b[39;00mcheckpoint_name\u001b[38;5;132;01m}\u001b[39;00m\u001b[38;5;124m. Known names are: \u001b[39m\u001b[38;5;132;01m{\u001b[39;00mMODEL_PATHS\u001b[38;5;241m.\u001b[39mkeys()\u001b[38;5;132;01m}\u001b[39;00m\u001b[38;5;124m.\u001b[39m\u001b[38;5;124m\"\u001b[39m\n\u001b[0;32m    132\u001b[0m     )\n\u001b[1;32m--> 133\u001b[0m path \u001b[38;5;241m=\u001b[39m fetch_file_cached(\n\u001b[0;32m    134\u001b[0m     MODEL_PATHS[checkpoint_name], progress\u001b[38;5;241m=\u001b[39mprogress, cache_dir\u001b[38;5;241m=\u001b[39mcache_dir, chunk_size\u001b[38;5;241m=\u001b[39mchunk_size\n\u001b[0;32m    135\u001b[0m )\n\u001b[0;32m    136\u001b[0m \u001b[38;5;28;01mreturn\u001b[39;00m torch\u001b[38;5;241m.\u001b[39mload(path, map_location\u001b[38;5;241m=\u001b[39mdevice)\n",
      "File \u001b[1;32ma:\\projects\\shap-e\\shap-e_frontend\\shap_e\\models\\download.py:81\u001b[0m, in \u001b[0;36mfetch_file_cached\u001b[1;34m(url, progress, cache_dir, chunk_size)\u001b[0m\n\u001b[0;32m     79\u001b[0m \u001b[38;5;28;01mif\u001b[39;00m progress:\n\u001b[0;32m     80\u001b[0m     pbar\u001b[38;5;241m.\u001b[39mclose()\n\u001b[1;32m---> 81\u001b[0m check_hash(local_path, expected_hash)\n\u001b[0;32m     82\u001b[0m \u001b[38;5;28;01mreturn\u001b[39;00m local_path\n",
      "File \u001b[1;32ma:\\projects\\shap-e\\shap-e_frontend\\shap_e\\models\\download.py:88\u001b[0m, in \u001b[0;36mcheck_hash\u001b[1;34m(path, expected_hash)\u001b[0m\n\u001b[0;32m     86\u001b[0m actual_hash \u001b[38;5;241m=\u001b[39m hash_file(path)\n\u001b[0;32m     87\u001b[0m \u001b[38;5;28;01mif\u001b[39;00m actual_hash \u001b[38;5;241m!=\u001b[39m expected_hash:\n\u001b[1;32m---> 88\u001b[0m     \u001b[38;5;28;01mraise\u001b[39;00m \u001b[38;5;167;01mRuntimeError\u001b[39;00m(\n\u001b[0;32m     89\u001b[0m         \u001b[38;5;124mf\u001b[39m\u001b[38;5;124m\"\u001b[39m\u001b[38;5;124mThe file \u001b[39m\u001b[38;5;132;01m{\u001b[39;00mpath\u001b[38;5;132;01m}\u001b[39;00m\u001b[38;5;124m should have hash \u001b[39m\u001b[38;5;132;01m{\u001b[39;00mexpected_hash\u001b[38;5;132;01m}\u001b[39;00m\u001b[38;5;124m but has \u001b[39m\u001b[38;5;132;01m{\u001b[39;00mactual_hash\u001b[38;5;132;01m}\u001b[39;00m\u001b[38;5;124m. \u001b[39m\u001b[38;5;124m\"\u001b[39m\n\u001b[0;32m     90\u001b[0m         \u001b[38;5;124m\"\u001b[39m\u001b[38;5;124mTry deleting it and running this call again.\u001b[39m\u001b[38;5;124m\"\u001b[39m\n\u001b[0;32m     91\u001b[0m     )\n",
      "\u001b[1;31mRuntimeError\u001b[0m: The file A:\\Projects\\Shap-e\\shap-e_frontend\\shap_e\\examples\\shap_e_model_cache\\text_cond.pt should have hash e6b4fa599a7b3c3b16c222d5f5fe56f9db9289ff0b6575fbe5c11bc97106aad4 but has 95eaad8b84afee1f75cb39130112e15ff3669528767bcc4cc7a82cb57efd521b. Try deleting it and running this call again."
     ]
    }
   ],
   "source": [
    "xm = load_model('transmitter', device=device)\n",
    "model = load_model('text300M', device=device)\n",
    "diffusion = diffusion_from_config(load_config('diffusion'))"
   ]
  },
  {
   "cell_type": "code",
   "execution_count": null,
   "id": "53d329d0",
   "metadata": {},
   "outputs": [],
   "source": [
    "batch_size = 4\n",
    "guidance_scale = 15.0\n",
    "prompt = \"a shark\"\n",
    "\n",
    "latents = sample_latents(\n",
    "    batch_size=batch_size,\n",
    "    model=model,\n",
    "    diffusion=diffusion,\n",
    "    guidance_scale=guidance_scale,\n",
    "    model_kwargs=dict(texts=[prompt] * batch_size),\n",
    "    progress=True,\n",
    "    clip_denoised=True,\n",
    "    use_fp16=True,\n",
    "    use_karras=True,\n",
    "    karras_steps=64,\n",
    "    sigma_min=1e-3,\n",
    "    sigma_max=160,\n",
    "    s_churn=0,\n",
    ")"
   ]
  },
  {
   "cell_type": "code",
   "execution_count": null,
   "id": "633da2ec",
   "metadata": {},
   "outputs": [],
   "source": [
    "render_mode = 'nerf' # you can change this to 'stf'\n",
    "size = 64 # this is the size of the renders; higher values take longer to render.\n",
    "\n",
    "cameras = create_pan_cameras(size, device)\n",
    "for i, latent in enumerate(latents):\n",
    "    images = decode_latent_images(xm, latent, cameras, rendering_mode=render_mode)\n",
    "    display(gif_widget(images))"
   ]
  },
  {
   "cell_type": "code",
   "execution_count": null,
   "id": "85a4dce4",
   "metadata": {},
   "outputs": [],
   "source": [
    "# Example of saving the latents as meshes.\n",
    "from shap_e.util.notebooks import decode_latent_mesh\n",
    "\n",
    "for i, latent in enumerate(latents):\n",
    "    t = decode_latent_mesh(xm, latent).tri_mesh()\n",
    "    with open(f'example_mesh_{i}.ply', 'wb') as f:\n",
    "        t.write_ply(f)\n",
    "    with open(f'example_mesh_{i}.obj', 'w') as f:\n",
    "        t.write_obj(f)"
   ]
  }
 ],
 "metadata": {
  "kernelspec": {
   "display_name": "Python 3 (ipykernel)",
   "language": "python",
   "name": "python3"
  },
  "language_info": {
   "codemirror_mode": {
    "name": "ipython",
    "version": 3
   },
   "file_extension": ".py",
   "mimetype": "text/x-python",
   "name": "python",
   "nbconvert_exporter": "python",
   "pygments_lexer": "ipython3",
   "version": "3.11.4"
  }
 },
 "nbformat": 4,
 "nbformat_minor": 5
}
